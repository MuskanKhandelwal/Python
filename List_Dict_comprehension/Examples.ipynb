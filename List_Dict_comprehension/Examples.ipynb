{
 "cells": [
  {
   "cell_type": "markdown",
   "id": "c6e46a5c",
   "metadata": {},
   "source": [
    "Q: Convert this loop into a list comprehension:\n",
    "\n",
    "result = []\n",
    "\n",
    "for x in range(10):\n",
    "\n",
    "    if x % 2 == 0:\n",
    "    \n",
    "        result.append(x * x)"
   ]
  },
  {
   "cell_type": "code",
   "execution_count": 3,
   "id": "ea2209e3",
   "metadata": {},
   "outputs": [
    {
     "data": {
      "text/plain": [
       "[0, 4, 16, 36, 64]"
      ]
     },
     "execution_count": 3,
     "metadata": {},
     "output_type": "execute_result"
    }
   ],
   "source": [
    "result  = [x*x for x in range(10) if x%2==0]\n",
    "result"
   ]
  },
  {
   "cell_type": "code",
   "execution_count": null,
   "id": "67b280ef",
   "metadata": {},
   "outputs": [
    {
     "data": {
      "text/plain": [
       "{0: 0, 2: 4, 4: 16, 6: 36, 8: 64}"
      ]
     },
     "execution_count": 4,
     "metadata": {},
     "output_type": "execute_result"
    }
   ],
   "source": [
    "result_dict = {x:x*x for x in range(10) if x%2==0}\n",
    "result_dict\n",
    "#Q: Convert this loop into a list comprehension:"
   ]
  },
  {
   "cell_type": "markdown",
   "id": "7eac6394",
   "metadata": {},
   "source": [
    "Filtering\n",
    "\n",
    "Q: Given a list of strings, return only those that start with a vowel using a comprehension."
   ]
  },
  {
   "cell_type": "code",
   "execution_count": 5,
   "id": "d36a47e5",
   "metadata": {},
   "outputs": [
    {
     "data": {
      "text/plain": [
       "['apple', 'egg', 'Orange']"
      ]
     },
     "execution_count": 5,
     "metadata": {},
     "output_type": "execute_result"
    }
   ],
   "source": [
    "words = [\"apple\", \"Pear\", \"egg\", \"sky\", \"Orange\"]\n",
    "vowels = {'a','e','i','o','u'}\n",
    "ans = [w for w in words if w and w[0].lower() in vowels]\n",
    "ans"
   ]
  },
  {
   "cell_type": "markdown",
   "id": "bff9edfe",
   "metadata": {},
   "source": [
    "Transformation\n",
    "\n",
    "Q: From a list of Celsius temperatures, create a list of Fahrenheit values using a comprehension.\n",
    "\n"
   ]
  },
  {
   "cell_type": "code",
   "execution_count": 6,
   "id": "83e7d47d",
   "metadata": {},
   "outputs": [
    {
     "data": {
      "text/plain": [
       "[32.0, 68.0, 98.6, 212.0]"
      ]
     },
     "execution_count": 6,
     "metadata": {},
     "output_type": "execute_result"
    }
   ],
   "source": [
    "c = [0, 20, 37, 100]\n",
    "f = [t * 9/5 + 32 for t in c]\n",
    "f"
   ]
  },
  {
   "cell_type": "markdown",
   "id": "74a85b69",
   "metadata": {},
   "source": [
    "Intermediate\n"
   ]
  },
  {
   "cell_type": "markdown",
   "id": "315aa4b7",
   "metadata": {},
   "source": [
    "Flattening Lists\n",
    "\n",
    "Q: Convert [[1, 2], [3, 4], [5, 6]] into a flat list using a comprehension."
   ]
  },
  {
   "cell_type": "code",
   "execution_count": 10,
   "id": "d70f6f9c",
   "metadata": {},
   "outputs": [
    {
     "data": {
      "text/plain": [
       "[1, 2, 3, 4, 5, 6]"
      ]
     },
     "execution_count": 10,
     "metadata": {},
     "output_type": "execute_result"
    }
   ],
   "source": [
    "arr=[[1, 2], [3, 4], [5, 6]]\n",
    "res=[y for a in arr for y in a]\n",
    "res"
   ]
  },
  {
   "cell_type": "markdown",
   "id": "d9253a85",
   "metadata": {},
   "source": [
    "Inverting a Dictionary\n",
    "\n",
    "Q: Given {1: 'a', 2: 'b', 3: 'c'}, write a dict comprehension to make 'a': 1, 'b': 2, ...."
   ]
  },
  {
   "cell_type": "code",
   "execution_count": 13,
   "id": "61917eff",
   "metadata": {},
   "outputs": [
    {
     "data": {
      "text/plain": [
       "{'a': 1, 'b': 2, 'c': 3}"
      ]
     },
     "execution_count": 13,
     "metadata": {},
     "output_type": "execute_result"
    }
   ],
   "source": [
    "d_try={1: 'a', 2: 'b', 3: 'c'}\n",
    "res={v:k for k,v in d_try.items()}\n",
    "res"
   ]
  },
  {
   "cell_type": "markdown",
   "id": "90ec32f9",
   "metadata": {},
   "source": [
    "Conditionals\n",
    "\n",
    "Q: Generate a dict with numbers from 1 to 5 as keys and \"even\"/\"odd\" as values using comprehension."
   ]
  },
  {
   "cell_type": "code",
   "execution_count": 14,
   "id": "e2803642",
   "metadata": {},
   "outputs": [
    {
     "data": {
      "text/plain": [
       "{1: 'odd', 2: 'even', 3: 'odd', 4: 'even', 5: 'odd'}"
      ]
     },
     "execution_count": 14,
     "metadata": {},
     "output_type": "execute_result"
    }
   ],
   "source": [
    "dict_1={k:('even' if k%2==0 else 'odd') for k in range(1,6) }\n",
    "dict_1"
   ]
  },
  {
   "cell_type": "markdown",
   "id": "c981a1c6",
   "metadata": {},
   "source": [
    "Advanced\n",
    "\n",
    "Nested Comprehensions\n",
    "\n",
    "Q: Create a list of all (i, j) pairs where i is from [1, 2] and j is from [3, 4]."
   ]
  },
  {
   "cell_type": "code",
   "execution_count": 17,
   "id": "15b0a787",
   "metadata": {},
   "outputs": [
    {
     "data": {
      "text/plain": [
       "[(1, 3), (1, 4), (2, 3), (2, 4)]"
      ]
     },
     "execution_count": 17,
     "metadata": {},
     "output_type": "execute_result"
    }
   ],
   "source": [
    "l =[(i,j) for i in [1,2] for j in [3,4]]\n",
    "l\n"
   ]
  },
  {
   "cell_type": "markdown",
   "id": "bfc54b58",
   "metadata": {},
   "source": [
    "Performance\n",
    "\n",
    "Q: Which is faster, a list comprehension or a for loop? Why?\n",
    "\n",
    "Follow-up: When would you not use a comprehension?\n",
    "\n"
   ]
  },
  {
   "cell_type": "markdown",
   "id": "b3e8e907",
   "metadata": {},
   "source": [
    "Answer: List/dict comprehensions are typically faster than equivalent Python for loops because they execute the looping logic in C and avoid repeated .append() calls.\n",
    "When not:\n",
    "\n",
    "When you need complex logic (multiple statements, side-effects) → regular loop is clearer.\n",
    "\n",
    "When the result is huge and you don’t need it all at once → use a generator expression.\n"
   ]
  },
  {
   "cell_type": "markdown",
   "id": "8affcaa0",
   "metadata": {},
   "source": [
    "Memory Optimization\n",
    "\n",
    "Q: How would you turn a list comprehension into a generator expression, and why?"
   ]
  },
  {
   "cell_type": "code",
   "execution_count": 18,
   "id": "11816cf8",
   "metadata": {},
   "outputs": [
    {
     "data": {
      "text/plain": [
       "<generator object <genexpr> at 0x1057b6270>"
      ]
     },
     "execution_count": 18,
     "metadata": {},
     "output_type": "execute_result"
    }
   ],
   "source": [
    "# list comp\n",
    "squares_list = [x*x for x in range(10**7)]\n",
    "squares_list\n",
    "# generator expression (lazy)\n",
    "squares_gen = (x*x for x in range(10**7))\n",
    "squares_gen"
   ]
  },
  {
   "cell_type": "markdown",
   "id": "01a7a794",
   "metadata": {},
   "source": [
    "Why: Generator yields on demand → lower peak memory, great for streaming/pipelines.\n",
    "TC: O(n) to consume all; per-item O(1)\n",
    "SC: O(1) additional (excluding producer/consumer buffers)"
   ]
  },
  {
   "cell_type": "markdown",
   "id": "f19b296c",
   "metadata": {},
   "source": [
    "Real-World Example\n",
    "\n",
    "Q: Given a list of dictionaries:\n",
    "\n",
    "\n",
    "data = \n",
    "[\n",
    "    \n",
    "    {\"name\": \"Alice\", \"age\": 25},\n",
    "\n",
    "    {\"name\": \"Bob\", \"age\": 17},\n",
    "\n",
    "    {\"name\": \"Charlie\", \"age\": 19}\n",
    "]\n",
    "\n",
    "Use a list comprehension to extract names of people aged 18+.\n",
    "\n"
   ]
  },
  {
   "cell_type": "code",
   "execution_count": 25,
   "id": "7320320a",
   "metadata": {},
   "outputs": [
    {
     "data": {
      "text/plain": [
       "['Alice', 'Charlie']"
      ]
     },
     "execution_count": 25,
     "metadata": {},
     "output_type": "execute_result"
    }
   ],
   "source": [
    "data = [{\"name\": \"Alice\", \"age\": 25},\n",
    "    {\"name\": \"Bob\", \"age\": 17},\n",
    "    {\"name\": \"Charlie\", \"age\": 19}\n",
    "]\n",
    "\n",
    "res = [i[\"name\"] for i in data if i[\"age\"]>18]\n",
    "res"
   ]
  }
 ],
 "metadata": {
  "kernelspec": {
   "display_name": "Python 3",
   "language": "python",
   "name": "python3"
  },
  "language_info": {
   "codemirror_mode": {
    "name": "ipython",
    "version": 3
   },
   "file_extension": ".py",
   "mimetype": "text/x-python",
   "name": "python",
   "nbconvert_exporter": "python",
   "pygments_lexer": "ipython3",
   "version": "3.9.6"
  }
 },
 "nbformat": 4,
 "nbformat_minor": 5
}
