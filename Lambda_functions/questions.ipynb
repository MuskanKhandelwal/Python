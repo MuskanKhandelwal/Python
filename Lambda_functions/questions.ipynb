{
 "cells": [
  {
   "cell_type": "markdown",
   "metadata": {},
   "source": [
    "BASIC"
   ]
  },
  {
   "cell_type": "markdown",
   "metadata": {},
   "source": [
    "1) What is a lambda? When use over def?\n",
    "\n",
    "Answer: An anonymous, single-expression function: lambda args: expr. Handy for tiny, inline callbacks (e.g., sort keys). Use def when logic grows or needs a name/docstring."
   ]
  },
  {
   "cell_type": "markdown",
   "metadata": {},
   "source": [
    "2. Rewrite using map + lambda: square numbers in a list."
   ]
  },
  {
   "cell_type": "code",
   "execution_count": 2,
   "metadata": {},
   "outputs": [
    {
     "data": {
      "text/plain": [
       "[1, 4, 9, 16]"
      ]
     },
     "execution_count": 2,
     "metadata": {},
     "output_type": "execute_result"
    }
   ],
   "source": [
    "nums=[1,2,3,4]\n",
    "res = list(map(lambda x:x*x,nums))\n",
    "res"
   ]
  },
  {
   "cell_type": "markdown",
   "metadata": {},
   "source": [
    "3. Filter strings with length ≥ 3 using filter + lambda."
   ]
  },
  {
   "cell_type": "code",
   "execution_count": 5,
   "metadata": {},
   "outputs": [
    {
     "data": {
      "text/plain": [
       "['bee', 'cat']"
      ]
     },
     "execution_count": 5,
     "metadata": {},
     "output_type": "execute_result"
    }
   ],
   "source": [
    "strings = [\"a\", \"bee\", \"cat\", \"\"]\n",
    "res=list(filter(lambda x:len(x)>=3, strings))\n",
    "res"
   ]
  },
  {
   "cell_type": "markdown",
   "metadata": {},
   "source": [
    "4. Sort a list of dicts by \"age\" using lambda as key."
   ]
  },
  {
   "cell_type": "code",
   "execution_count": 6,
   "metadata": {},
   "outputs": [
    {
     "data": {
      "text/plain": [
       "[{'name': 'B', 'age': 20}, {'name': 'A', 'age': 30}]"
      ]
     },
     "execution_count": 6,
     "metadata": {},
     "output_type": "execute_result"
    }
   ],
   "source": [
    "people = [{\"name\":\"A\",\"age\":30},{\"name\":\"B\",\"age\":20}]\n",
    "s_people=sorted(people, key=lambda p:p[\"age\"])\n",
    "s_people"
   ]
  },
  {
   "cell_type": "markdown",
   "metadata": {},
   "source": [
    "Intermediate"
   ]
  },
  {
   "cell_type": "markdown",
   "metadata": {},
   "source": [
    "5. Stable multi-key sort: last name (case-insensitive), then first name."
   ]
  },
  {
   "cell_type": "code",
   "execution_count": 7,
   "metadata": {},
   "outputs": [
    {
     "data": {
      "text/plain": [
       "[{'first': 'grace', 'last': 'hopper'}, {'first': 'Ada', 'last': 'Lovelace'}]"
      ]
     },
     "execution_count": 7,
     "metadata": {},
     "output_type": "execute_result"
    }
   ],
   "source": [
    "people = [{\"first\":\"Ada\",\"last\":\"Lovelace\"}, {\"first\":\"grace\",\"last\":\"hopper\"}]\n",
    "s_people = sorted(people, key = lambda x:(x['last'].lower(),x['first'].lower()))\n",
    "s_people"
   ]
  },
  {
   "cell_type": "markdown",
   "metadata": {},
   "source": [
    "6. When is operator.itemgetter('age') preferable to lambda p: p['age']?"
   ]
  },
  {
   "cell_type": "markdown",
   "metadata": {},
   "source": [
    "Answer: Prefer itemgetter('age') over lambda p: p['age'] in sort/map: cleaner and faster (C-implemented)."
   ]
  },
  {
   "cell_type": "code",
   "execution_count": 10,
   "metadata": {},
   "outputs": [
    {
     "data": {
      "text/plain": [
       "[{'name': 'B', 'age': 20}, {'name': 'A', 'age': 30}]"
      ]
     },
     "execution_count": 10,
     "metadata": {},
     "output_type": "execute_result"
    }
   ],
   "source": [
    "from operator import itemgetter\n",
    "people = [{\"name\":\"A\",\"age\":30},{\"name\":\"B\",\"age\":20}]\n",
    "res = sorted(people, key=itemgetter(\"age\"))\n",
    "res"
   ]
  },
  {
   "cell_type": "markdown",
   "metadata": {},
   "source": [
    "7. Explain late binding in lambdas inside loops & fix it."
   ]
  },
  {
   "cell_type": "code",
   "execution_count": 11,
   "metadata": {},
   "outputs": [],
   "source": [
    "funcs_bad = [lambda x: x+i for i in range(3)]     # all capture same i\n",
    "# Fix by freezing i in default arg:\n",
    "funcs = [lambda x, i=i: x+i for i in range(3)]\n",
    "#Closures capture by reference; use i=i to bind current value."
   ]
  },
  {
   "cell_type": "markdown",
   "metadata": {},
   "source": [
    "8. map/filter vs comprehensions?\n",
    "\n",
    "Comprehensions are usually clearer and often faster:"
   ]
  },
  {
   "cell_type": "code",
   "execution_count": 13,
   "metadata": {},
   "outputs": [
    {
     "data": {
      "text/plain": [
       "[2, 4]"
      ]
     },
     "execution_count": 13,
     "metadata": {},
     "output_type": "execute_result"
    }
   ],
   "source": [
    "# map/filter\n",
    "evens = list(filter(lambda x: x%2==0, nums))\n",
    "# list comp (preferred)\n",
    "evens = [x for x in nums if x%2==0]\n",
    "evens"
   ]
  },
  {
   "cell_type": "markdown",
   "metadata": {},
   "source": [
    "9. Use lambda with reduce to compute product of a list."
   ]
  },
  {
   "cell_type": "code",
   "execution_count": 14,
   "metadata": {},
   "outputs": [
    {
     "data": {
      "text/plain": [
       "24"
      ]
     },
     "execution_count": 14,
     "metadata": {},
     "output_type": "execute_result"
    }
   ],
   "source": [
    "from functools import reduce\n",
    "prod = reduce(lambda a,b: a*b, [2,3,4], 1)\n",
    "prod\n",
    "# Modern alternative: from math import prod; prod([2,3,4])"
   ]
  },
  {
   "cell_type": "markdown",
   "metadata": {},
   "source": [
    "\n",
    "\n",
    "\n",
    "10. Sort heterogeneous or nullable data without crashing.\n",
    "Cue: key returns a tuple (v is None, transform(v)) to push None last."
   ]
  },
  {
   "cell_type": "code",
   "execution_count": 16,
   "metadata": {},
   "outputs": [
    {
     "data": {
      "text/plain": [
       "[0, -1, 1, -2, 2, -3, 3]"
      ]
     },
     "execution_count": 16,
     "metadata": {},
     "output_type": "execute_result"
    }
   ],
   "source": [
    "nums = [3,-3,2,-2,0,-1,1]\n",
    "res = sorted(nums, key=lambda x: (abs(x), x >= 0))\n",
    "res"
   ]
  },
  {
   "cell_type": "markdown",
   "metadata": {},
   "source": [
    "Real-world scenarios"
   ]
  },
  {
   "cell_type": "markdown",
   "metadata": {},
   "source": [
    "11. From logs, keep only ERROR lines, then extract module names.\n",
    "\n"
   ]
  },
  {
   "cell_type": "code",
   "execution_count": 17,
   "metadata": {},
   "outputs": [],
   "source": [
    "lines = [\"INFO core a\", \"ERROR net http\", \"ERROR db sql\"]\n",
    "# FP with lambda\n",
    "mods = list(map(lambda s: s.split()[1], filter(lambda s: \"ERROR\" in s, lines)))\n",
    "# Pythonic comp (often preferred)\n",
    "mods = [s.split()[1] for s in lines if \"ERROR\" in s]\n"
   ]
  },
  {
   "cell_type": "markdown",
   "metadata": {},
   "source": [
    "12. CSV rows (dicts): sort by date string YYYY-MM-DD, but treat missing as oldest.\n"
   ]
  },
  {
   "cell_type": "code",
   "execution_count": 18,
   "metadata": {},
   "outputs": [
    {
     "data": {
      "text/plain": [
       "[{'date': '2023-01-05'}, {'date': '2024-10-01'}, {'date': None}]"
      ]
     },
     "execution_count": 18,
     "metadata": {},
     "output_type": "execute_result"
    }
   ],
   "source": [
    "rows = [{\"date\":\"2024-10-01\"}, {\"date\":None}, {\"date\":\"2023-01-05\"}]\n",
    "res = sorted(rows, key=lambda r: (r.get(\"date\") is None, r.get(\"date\") or \"0000-00-00\"))\n",
    "res"
   ]
  },
  {
   "cell_type": "markdown",
   "metadata": {},
   "source": [
    "13. Deduplicate a list of dicts by id, keeping the highest score.\n"
   ]
  },
  {
   "cell_type": "code",
   "execution_count": 19,
   "metadata": {},
   "outputs": [
    {
     "data": {
      "text/plain": [
       "[{'id': 1, 'score': 9}, {'id': 2, 'score': 5}]"
      ]
     },
     "execution_count": 19,
     "metadata": {},
     "output_type": "execute_result"
    }
   ],
   "source": [
    "rows = [{\"id\":1,\"score\":7},{\"id\":1,\"score\":9},{\"id\":2,\"score\":5}]\n",
    "best = {}\n",
    "for r in rows:\n",
    "    i, s = r[\"id\"], r[\"score\"]\n",
    "    if i not in best or s > best[i][\"score\"]:\n",
    "        best[i] = r\n",
    "res = list(best.values())\n",
    "res"
   ]
  },
  {
   "cell_type": "markdown",
   "metadata": {},
   "source": [
    "\n",
    "14. Event handler in a GUI: pass row index to a callback created in a loop."
   ]
  }
 ],
 "metadata": {
  "kernelspec": {
   "display_name": "Python 3",
   "language": "python",
   "name": "python3"
  },
  "language_info": {
   "codemirror_mode": {
    "name": "ipython",
    "version": 3
   },
   "file_extension": ".py",
   "mimetype": "text/x-python",
   "name": "python",
   "nbconvert_exporter": "python",
   "pygments_lexer": "ipython3",
   "version": "3.9.6"
  },
  "orig_nbformat": 4
 },
 "nbformat": 4,
 "nbformat_minor": 2
}
