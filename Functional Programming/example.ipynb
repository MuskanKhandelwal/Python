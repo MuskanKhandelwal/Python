{
 "cells": [
  {
   "cell_type": "markdown",
   "metadata": {},
   "source": [
    "EASY"
   ]
  },
  {
   "cell_type": "markdown",
   "metadata": {},
   "source": [
    "1. Map:\n",
    "You have a list of integers:\n",
    "\n",
    "nums = [1, 4, 9, 16, 25]\n",
    "\n",
    "Use map to create a list of square roots."
   ]
  },
  {
   "cell_type": "code",
   "execution_count": 2,
   "metadata": {},
   "outputs": [
    {
     "data": {
      "text/plain": [
       "[1.0, 2.0, 3.0, 4.0, 5.0]"
      ]
     },
     "execution_count": 2,
     "metadata": {},
     "output_type": "execute_result"
    }
   ],
   "source": [
    "import math\n",
    "nums=[1,4,9,16,25]\n",
    "root = list(map(lambda x:math.sqrt(x), nums))\n",
    "root"
   ]
  },
  {
   "cell_type": "markdown",
   "metadata": {},
   "source": [
    "2. Filter:\n",
    "From this list:\n",
    "\n",
    "words = [\"apple\", \"banana\", \"kiwi\", \"grape\", \"pear\"]\n",
    "\n",
    "Use filter to keep only words with length ≥ 5."
   ]
  },
  {
   "cell_type": "code",
   "execution_count": 5,
   "metadata": {},
   "outputs": [
    {
     "data": {
      "text/plain": [
       "['apple', 'banana', 'grape']"
      ]
     },
     "execution_count": 5,
     "metadata": {},
     "output_type": "execute_result"
    }
   ],
   "source": [
    "words = [\"apple\", \"banana\", \"kiwi\", \"grape\", \"pear\"]\n",
    "word_f = list(filter(lambda x:len(x)>=5,words))\n",
    "word_f"
   ]
  },
  {
   "cell_type": "markdown",
   "metadata": {},
   "source": [
    "3. Reduce:\n",
    "From:\n",
    "\n",
    "nums = [2, 3, 4]\n",
    "\n",
    "Use reduce to find the factorial (product of all numbers)."
   ]
  },
  {
   "cell_type": "code",
   "execution_count": 7,
   "metadata": {},
   "outputs": [
    {
     "data": {
      "text/plain": [
       "24"
      ]
     },
     "execution_count": 7,
     "metadata": {},
     "output_type": "execute_result"
    }
   ],
   "source": [
    "from functools import reduce\n",
    "nums = [2, 3, 4]\n",
    "fact=reduce(lambda a,b:a*b,nums)\n",
    "fact"
   ]
  },
  {
   "cell_type": "markdown",
   "metadata": {},
   "source": [
    "4. Filter + Map:\n",
    "Given:\n",
    "\n",
    "nums = [10, 15, 20, 25, 30, 35, 40]\n",
    "\n",
    "Filter numbers divisible by 5 but not by 10.\n",
    "\n",
    "Then map each to its square."
   ]
  },
  {
   "cell_type": "code",
   "execution_count": 6,
   "metadata": {},
   "outputs": [
    {
     "data": {
      "text/plain": [
       "[225, 625, 1225]"
      ]
     },
     "execution_count": 6,
     "metadata": {},
     "output_type": "execute_result"
    }
   ],
   "source": [
    "nums = [10, 15, 20, 25, 30, 35, 40]\n",
    "\n",
    "t=list(map(lambda x:x*x,filter(lambda x:x%5==0 and x%10!=0,nums)))\n",
    "t"
   ]
  },
  {
   "cell_type": "markdown",
   "metadata": {},
   "source": [
    "5. Map + Reduce:\n",
    "Given:\n",
    "\n",
    "names = [\"Alice\", \"Bob\", \"Charlie\"]\n",
    "\n",
    "Use map to get the length of each name.\n",
    "\n",
    "Use reduce to sum the lengths.\n",
    "\n"
   ]
  },
  {
   "cell_type": "code",
   "execution_count": 25,
   "metadata": {},
   "outputs": [
    {
     "data": {
      "text/plain": [
       "15"
      ]
     },
     "execution_count": 25,
     "metadata": {},
     "output_type": "execute_result"
    }
   ],
   "source": [
    "names = [\"Alice\", \"Bob\", \"Charlie\"]\n",
    "res=reduce(lambda a,b:a+b,map(lambda x : len(x),names))\n",
    "res\n"
   ]
  },
  {
   "cell_type": "markdown",
   "metadata": {},
   "source": [
    "6. Filter + Reduce:\n",
    "Given:\n",
    "\n",
    "nums = [5, 12, 7, 18, 3, 20]\n",
    "\n",
    "Filter out numbers ≤ 10.\n",
    "\n",
    "Use reduce to find their sum."
   ]
  },
  {
   "cell_type": "code",
   "execution_count": 10,
   "metadata": {},
   "outputs": [
    {
     "data": {
      "text/plain": [
       "15"
      ]
     },
     "execution_count": 10,
     "metadata": {},
     "output_type": "execute_result"
    }
   ],
   "source": [
    "nums = [5, 12, 7, 18, 3, 20]\n",
    "res = reduce(lambda a,b:a+b,filter(lambda x:x<=10,nums))\n",
    "res"
   ]
  },
  {
   "cell_type": "markdown",
   "metadata": {},
   "source": [
    "7. Transactions Pipeline:\n",
    "Given:\n",
    "\n",
    "transactions = [1200, -300, 450, -600, 700, -150]\n",
    "\n",
    "Filter to keep only positive transactions.\n",
    "\n",
    "Map each to double its value.\n",
    "\n",
    "Reduce to get the total doubled income."
   ]
  },
  {
   "cell_type": "code",
   "execution_count": 11,
   "metadata": {},
   "outputs": [
    {
     "data": {
      "text/plain": [
       "4700"
      ]
     },
     "execution_count": 11,
     "metadata": {},
     "output_type": "execute_result"
    }
   ],
   "source": [
    "transactions = [1200, -300, 450, -600, 700, -150]\n",
    "\n",
    "res= reduce(lambda a,b:a+b,map(lambda x:2*x,filter(lambda x:x>0,transactions)))\n",
    "res"
   ]
  },
  {
   "cell_type": "markdown",
   "metadata": {},
   "source": [
    "8. Dictionary Data Processing:\n",
    "Given:\n",
    "\n",
    "people = [\n",
    "    {\"name\": \"Alice\", \"age\": 25},\n",
    "    {\"name\": \"Bob\", \"age\": 30},\n",
    "    {\"name\": \"Carol\", \"age\": 27},\n",
    "    {\"name\": \"Dave\", \"age\": 22}\n",
    "]\n",
    "\n",
    "Filter only people older than 25.\n",
    "\n",
    "Map to just their names.\n",
    "\n",
    "Reduce to concatenate names into a single comma-separated string."
   ]
  },
  {
   "cell_type": "code",
   "execution_count": 27,
   "metadata": {},
   "outputs": [
    {
     "data": {
      "text/plain": [
       "['Bob', 'Carol']"
      ]
     },
     "execution_count": 27,
     "metadata": {},
     "output_type": "execute_result"
    }
   ],
   "source": [
    "people = [\n",
    "    {\"name\": \"Alice\", \"age\": 25},\n",
    "    {\"name\": \"Bob\", \"age\": 30},\n",
    "    {\"name\": \"Carol\", \"age\": 27},\n",
    "    {\"name\": \"Dave\", \"age\": 22}\n",
    "]\n",
    "\n",
    "res =list(map(lambda x:x['name'],filter(lambda x:x['age']>25,people)))\n",
    "res"
   ]
  },
  {
   "cell_type": "markdown",
   "metadata": {},
   "source": [
    "9. Word Frequency Counter:\n",
    "Given:\n",
    "\n",
    "text = \"apple banana apple grape banana apple\"\n",
    "\n",
    "Split into words.\n",
    "\n",
    "Use reduce to build a dictionary counting occurrences of each word."
   ]
  },
  {
   "cell_type": "code",
   "execution_count": 31,
   "metadata": {},
   "outputs": [
    {
     "data": {
      "text/plain": [
       "{'apple': 3, 'banana': 2, 'grape': 1}"
      ]
     },
     "execution_count": 31,
     "metadata": {},
     "output_type": "execute_result"
    }
   ],
   "source": [
    "text = \"apple banana apple grape banana apple\"\n",
    "res = text.split()\n",
    "res_ = reduce(lambda a,b:(a.update({b:a.get(b,0)+1}) or a),res,{})\n",
    "res_"
   ]
  },
  {
   "cell_type": "code",
   "execution_count": 33,
   "metadata": {},
   "outputs": [
    {
     "name": "stdout",
     "output_type": "stream",
     "text": [
      "{'apple': 3, 'banana': 2, 'grape': 1}\n"
     ]
    }
   ],
   "source": [
    "def update_count(acc, word):\n",
    "    acc[word] = acc.get(word, 0) + 1\n",
    "    return acc\n",
    "\n",
    "result = reduce(update_count, res, {})\n",
    "print(result)\n",
    "# {'apple': 3, 'banana': 2, 'grape': 1}\n"
   ]
  },
  {
   "cell_type": "markdown",
   "metadata": {},
   "source": [
    "10. Nth Largest Distinct Number:\n",
    "Given:\n",
    "\n",
    "\n",
    "nums = [10, 20, 20, 30, 40, 40, 50]\n",
    "\n",
    "n = 3\n",
    "\n",
    "Remove duplicates (set).\n",
    "\n",
    "Sort in descending order.\n",
    "\n",
    "Use map/filter or indexing to get the nth largest number.\n",
    "\n"
   ]
  },
  {
   "cell_type": "code",
   "execution_count": 26,
   "metadata": {},
   "outputs": [
    {
     "name": "stdout",
     "output_type": "stream",
     "text": [
      "30\n"
     ]
    }
   ],
   "source": [
    "nums = [10, 20, 20, 30, 40, 40, 50]\n",
    "nums=list(set(nums))\n",
    "nums.sort(reverse=True)\n",
    "n = 3\n",
    "ans10 = nums[n - 1] if n <= len(nums) else None\n",
    "print(ans10)"
   ]
  },
  {
   "cell_type": "code",
   "execution_count": null,
   "metadata": {},
   "outputs": [],
   "source": []
  }
 ],
 "metadata": {
  "kernelspec": {
   "display_name": "Python 3",
   "language": "python",
   "name": "python3"
  },
  "language_info": {
   "codemirror_mode": {
    "name": "ipython",
    "version": 3
   },
   "file_extension": ".py",
   "mimetype": "text/x-python",
   "name": "python",
   "nbconvert_exporter": "python",
   "pygments_lexer": "ipython3",
   "version": "3.9.6"
  },
  "orig_nbformat": 4
 },
 "nbformat": 4,
 "nbformat_minor": 2
}
